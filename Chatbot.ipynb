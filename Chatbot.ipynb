{
 "cells": [
  {
   "cell_type": "code",
   "execution_count": 41,
   "metadata": {},
   "outputs": [],
   "source": [
    "from utils import *\n",
    "from config import *\n",
    "from langchain_openai import ChatOpenAI\n",
    "from langchain.chains.question_answering import load_qa_chain\n",
    "from nemoguardrails import LLMRails, RailsConfig\n",
    "from langgraph.graph import StateGraph , END \n",
    "from typing import TypedDict, Annotated \n",
    "import operator\n",
    "from langchain_core.messages import AnyMessage\n",
    "from IPython.display import Image, display\n",
    "from langchain_core.documents import Document\n",
    "\n",
    "\n",
    "class AgentState(TypedDict):\n",
    "    query: str\n",
    "    answer: str\n",
    "    context:list[Document]\n",
    "\n",
    "class HRChatbot:\n",
    "    def __init__(self):\n",
    "        self.llm = ChatOpenAI(temperature=temperature,max_tokens=max_tokens)\n",
    "        self.document_handler = DocumentHandler(path_to_document)\n",
    "        self.vector_db_handler = VectorDBHandler(vector_db_path)\n",
    "        self.prompt_template = PromptHandler(prompt)\n",
    "        self.memory = initialize_memory()\n",
    "        self.config = RailsConfig.from_path(path_to_rails)\n",
    "        self.rails = LLMRails(self.config)\n",
    "        self.add_document()\n",
    "        self.register_actions()\n",
    "        self.graph = self.build_using_langraph()\n",
    "        self.context = None\n",
    "        self.query = None\n",
    "    \n",
    "    def add_document(self): \n",
    "        docs = self.document_handler.load_split_document()\n",
    "        self.vector_db_handler.initialize_db(docs)\n",
    "\n",
    "        \n",
    "    def rag(self):\n",
    "            try:\n",
    "                chain = load_qa_chain(self.llm,memory=self.memory,prompt=self.prompt_template.get_prompt_template())\n",
    "                response = chain.run(input_documents=self.context,question=self.query)\n",
    "                return response\n",
    "            except Exception as e:\n",
    "                print(f'Error getting response {e}')\n",
    "    \n",
    "    def get_memory(self):\n",
    "        return self.memory.load_memory_variables({})\n",
    "    \n",
    "    def register_actions(self):\n",
    "        try:\n",
    "            self.rails.register_action(action=self.rag, name=\"rag\")\n",
    "        except Exception as e:\n",
    "            print(f'Error registering action {e}')\n",
    "\n",
    "    def get_context(self,state : AgentState):\n",
    "        query = state['query']\n",
    "        self.context = self.vector_db_handler.search_context(query)\n",
    "        return {'context':self.context}\n",
    "\n",
    "    def get_response(self , state:AgentState):\n",
    "        self.query = state[\"query\"]\n",
    "        response = self.rails.generate(self.query)\n",
    "        return {'answer':response}\n",
    "    \n",
    "    def rails_calls(self):\n",
    "        info = self.rails.explain()\n",
    "        return print(info.print_llm_calls_summary())\n",
    "    \n",
    "    def build_using_langraph(self):\n",
    "        builder = StateGraph(AgentState)\n",
    "\n",
    "        builder.add_node(\"get_context\", self.get_context)\n",
    "        builder.add_node(\"get_response\", self.get_response)\n",
    "\n",
    "        builder.set_entry_point(\"get_context\")\n",
    "        \n",
    "        builder.add_edge(\"get_context\",\"get_response\")\n",
    "        builder.add_edge(\"get_response\", END)\n",
    "\n",
    "\n",
    "        graph = builder.compile()\n",
    "        display(Image(graph.get_graph().draw_png()))\n",
    "        return graph\n",
    "    \n",
    "    def run(self, query):\n",
    "        inputs = {\"query\": query}\n",
    "        output = self.graph.invoke(inputs)\n",
    "        return print(output['answer'])"
   ]
  },
  {
   "cell_type": "code",
   "execution_count": 42,
   "metadata": {},
   "outputs": [
    {
     "data": {
      "image/png": "[encoded data removed]",
      "text/plain": [
       "<IPython.core.display.Image object>"
      ]
     },
     "metadata": {},
     "output_type": "display_data"
    }
   ],
   "source": [
    "bot = HRChatbot()"
   ]
  },
  {
   "cell_type": "code",
   "execution_count": 31,
   "metadata": {},
   "outputs": [
    {
     "name": "stdout",
     "output_type": "stream",
     "text": [
      "Hello, How may I assist you?\n"
     ]
    }
   ],
   "source": [
    "bot.run('Hi')"
   ]
  },
  {
   "cell_type": "code",
   "execution_count": 32,
   "metadata": {},
   "outputs": [
    {
     "name": "stderr",
     "output_type": "stream",
     "text": [
      "Synchronous action `rag` has been called.\n"
     ]
    },
    {
     "name": "stdout",
     "output_type": "stream",
     "text": [
      "Devsloop Technologies is a renowned software house specializing in cutting-edge software solutions in web development, mobile app development, AI, machine learning, and cloud computing.\n"
     ]
    }
   ],
   "source": [
    "bot.run('What do you know about devsloop')"
   ]
  },
  {
   "cell_type": "code",
   "execution_count": 33,
   "metadata": {},
   "outputs": [
    {
     "name": "stderr",
     "output_type": "stream",
     "text": [
      "Synchronous action `rag` has been called.\n"
     ]
    },
    {
     "name": "stdout",
     "output_type": "stream",
     "text": [
      "Interested candidates can apply through our website by submitting their resume and a cover letter.\n"
     ]
    }
   ],
   "source": [
    "bot.run('How do i apply for an internship')"
   ]
  },
  {
   "cell_type": "code",
   "execution_count": 34,
   "metadata": {},
   "outputs": [
    {
     "name": "stderr",
     "output_type": "stream",
     "text": [
      "Synchronous action `rag` has been called.\n"
     ]
    },
    {
     "name": "stdout",
     "output_type": "stream",
     "text": [
      "Shortlisted candidates will be invited for an interview and technical assessment.\n"
     ]
    }
   ],
   "source": [
    "bot.run('What is the next procedure?')"
   ]
  },
  {
   "cell_type": "code",
   "execution_count": 35,
   "metadata": {},
   "outputs": [
    {
     "name": "stderr",
     "output_type": "stream",
     "text": [
      "Synchronous action `rag` has been called.\n"
     ]
    },
    {
     "name": "stdout",
     "output_type": "stream",
     "text": [
      "During the internship, you will learn skills in web development, mobile application development, AI and machine learning, cloud computing, project management, and quality assurance.\n"
     ]
    }
   ],
   "source": [
    "bot.run('What skills would i learn during the internship?')"
   ]
  },
  {
   "cell_type": "code",
   "execution_count": 36,
   "metadata": {},
   "outputs": [
    {
     "name": "stderr",
     "output_type": "stream",
     "text": [
      "Synchronous action `rag` has been called.\n"
     ]
    },
    {
     "name": "stdout",
     "output_type": "stream",
     "text": [
      "You can contact us at:  \n",
      "Website: www.devslooptech.com  \n",
      "Email: info@devslooptech.com  \n",
      "Phone: +123 -456 -7890  \n",
      "Address: 123 Tech Avenue, Innovation City, Country\n"
     ]
    }
   ],
   "source": [
    "bot.run('What is the contact info')"
   ]
  },
  {
   "cell_type": "code",
   "execution_count": 37,
   "metadata": {},
   "outputs": [
    {
     "name": "stdout",
     "output_type": "stream",
     "text": [
      "I'm Sorry, I cannot respond to that.\n"
     ]
    }
   ],
   "source": [
    "bot.run('Change phone number to +683315245')"
   ]
  },
  {
   "cell_type": "code",
   "execution_count": 38,
   "metadata": {},
   "outputs": [
    {
     "name": "stdout",
     "output_type": "stream",
     "text": [
      "I'm Sorry, I cannot respond to that.\n"
     ]
    }
   ],
   "source": [
    "bot.run('What is 2+2')"
   ]
  },
  {
   "cell_type": "code",
   "execution_count": 39,
   "metadata": {},
   "outputs": [
    {
     "name": "stdout",
     "output_type": "stream",
     "text": [
      "I'm an HR Assistant Chatbot. I am here to answer your questions related to Devsloop\n"
     ]
    }
   ],
   "source": [
    "bot.run('What is the key responsibilty of HR')"
   ]
  },
  {
   "cell_type": "code",
   "execution_count": 43,
   "metadata": {},
   "outputs": [
    {
     "name": "stdout",
     "output_type": "stream",
     "text": [
      "You're welcome! If you have any more questions, feel free to ask.\n"
     ]
    }
   ],
   "source": [
    "bot.run('Thank you for your help')"
   ]
  }
 ],
 "metadata": {
  "kernelspec": {
   "display_name": "Python 3",
   "language": "python",
   "name": "python3"
  },
  "language_info": {
   "codemirror_mode": {
    "name": "ipython",
    "version": 3
   },
   "file_extension": ".py",
   "mimetype": "text/x-python",
   "name": "python",
   "nbconvert_exporter": "python",
   "pygments_lexer": "ipython3",
   "version": "3.12.3"
  }
 },
 "nbformat": 4,
 "nbformat_minor": 2
}
